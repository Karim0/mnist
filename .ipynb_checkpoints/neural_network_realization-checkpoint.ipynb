{
 "cells": [
  {
   "cell_type": "code",
   "execution_count": 7,
   "metadata": {
    "collapsed": true,
    "pycharm": {
     "is_executing": false
    }
   },
   "outputs": [],
   "source": [
    "import numpy as np\n",
    "%matplotlib inline\n",
    "from NeuralNetwork import NeuralNetwork\n"
   ]
  },
  {
   "cell_type": "code",
   "execution_count": 8,
   "metadata": {
    "pycharm": {
     "is_executing": false,
     "name": "#%%\n"
    }
   },
   "outputs": [],
   "source": [
    "input_nodes = 784 \n",
    "hidden_nodes = 100 \n",
    "output_nodes =10\n",
    "\n",
    "\n",
    "learning_rate = 0.3\n",
    "\n",
    "n = NeuralNetwork(input_nodes,hidden_nodes,output_nodes,learning_rate)\n",
    "training_data_file = open(\"data/mnist_train.csv\", 'r') \n",
    "training_data_list = training_data_file.readlines () \n",
    "training_data_file.close()\n",
    "\n",
    "for record in training_data_list: \n",
    "    all_values = record.split(',') \n",
    "    inputs = (np.asfarray(all_values[1:]) / 255.0 * 0.99) + 0.01 \n",
    "    \n",
    "    targets = np.zeros(output_nodes) + 0.01\n",
    "    \n",
    "    targets[int(all_values[0])] =0.99 \n",
    "    n.train(inputs, targets) "
   ]
  },
  {
   "cell_type": "code",
   "execution_count": 9,
   "metadata": {
    "pycharm": {
     "is_executing": false,
     "name": "#%%\n"
    }
   },
   "outputs": [
    {
     "data": {
      "text/plain": [
       "False"
      ]
     },
     "execution_count": 9,
     "metadata": {},
     "output_type": "execute_result"
    }
   ],
   "source": [
    "test_data_file = open(\"data/mnist_test.csv\", 'r') \n",
    "test_data_list = test_data_file.readlines() \n",
    "test_data_file.closed\n"
   ]
  },
  {
   "cell_type": "code",
   "execution_count": 10,
   "metadata": {
    "pycharm": {
     "is_executing": false,
     "name": "#%%\n"
    }
   },
   "outputs": [],
   "source": [
    "scorecard = []\n",
    "for record in test_data_list: \n",
    "    all_values = record.split(',')\n",
    "    correct_label = int(all_values[0]) \n",
    "    # print(correct_label, \"истинный маркер\") \n",
    "    inputs = (np.asfarray(all_values[1:]) / 255.0 * 0.99) + 0.01 \n",
    "    outputs = n.query(inputs) \n",
    "    label = np.argmax(outputs) \n",
    "    # print(label, \"ответ сети\") \n",
    "    if (label == correct_label) : \n",
    "        scorecard.append(1) \n",
    "    else: \n",
    "        scorecard.append(0)"
   ]
  },
  {
   "cell_type": "code",
   "execution_count": 11,
   "metadata": {
    "pycharm": {
     "is_executing": false,
     "name": "#%%\n"
    }
   },
   "outputs": [
    {
     "data": {
      "text/plain": [
       "0.9483"
      ]
     },
     "execution_count": 11,
     "metadata": {},
     "output_type": "execute_result"
    }
   ],
   "source": [
    "sum(scorecard)/scorecard.__len__()\n",
    "\n",
    "\n",
    "\n",
    "\n"
   ]
  }
 ],
 "metadata": {
  "kernelspec": {
   "display_name": "Python 3",
   "language": "python",
   "name": "python3"
  },
  "language_info": {
   "codemirror_mode": {
    "name": "ipython",
    "version": 3
   },
   "file_extension": ".py",
   "mimetype": "text/x-python",
   "name": "python",
   "nbconvert_exporter": "python",
   "pygments_lexer": "ipython3",
   "version": "3.7.4"
  },
  "pycharm": {
   "stem_cell": {
    "cell_type": "raw",
    "metadata": {
     "collapsed": false
    },
    "source": []
   }
  }
 },
 "nbformat": 4,
 "nbformat_minor": 1
}
